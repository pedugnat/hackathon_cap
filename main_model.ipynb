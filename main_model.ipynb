{
 "cells": [
  {
   "cell_type": "code",
   "execution_count": 43,
   "metadata": {
    "collapsed": true
   },
   "outputs": [],
   "source": [
    "import pandas as pd\n",
    "import numpy as np\n",
    "import matplotlib.pyplot as plt\n",
    "from tqdm import tqdm\n",
    "import warnings\n",
    "warnings.filterwarnings(\"ignore\")"
   ]
  },
  {
   "cell_type": "code",
   "execution_count": 2,
   "metadata": {
    "collapsed": true
   },
   "outputs": [],
   "source": [
    "print(os.listdir('data'))\n",
    "\n",
    "ID_Data_test = pd.read_csv('data/ID_Data_test.csv')\n",
    "ID_Data_train = pd.read_csv('data/ID_Data_train.csv')\n",
    "ID_Time_train = pd.read_csv('data/ID_Time_train.csv')\n",
    "sample_sub_coachs = pd.read_csv('data/sample_sub_coachs.csv')\n",
    "sample_submission = pd.read_csv('data/sample_sub_kaggle.csv')\n",
    "\n",
    "ID_Data_train = ID_Data_train.sort_values(['id_race', 'id'])\n",
    "ID_Data_test = ID_Data_test.sort_values(['id_race', 'id'])"
   ]
  },
  {
   "cell_type": "code",
   "execution_count": 3,
   "metadata": {
    "collapsed": true
   },
   "outputs": [],
   "source": [
    "def calc_cos(data):\n",
    "    data.loc[:,'cos_angle'] = np.cos((data.loc[:,'direction_vent'] - data.loc[:,'cap'])/180 * np.pi)\n",
    "    return data\n",
    "\n",
    "def calc_sin(data):\n",
    "    data.loc[:,'sin_angle'] = np.sin((data.loc[:,'direction_vent'] - data.loc[:,'cap'])/180 * np.pi)\n",
    "    return data\n",
    "\n",
    "def distance(lat1, lng1, lat2, lng2):\n",
    "    return np.sqrt((lat1 - lat2)**2 + (lng1 - lng2)**2) \n",
    "\n",
    "def rmse(y, y_pred):\n",
    "    return np.sqrt(np.mean(np.square(y - y_pred)))\n",
    "\n",
    "ID_Data_train = calc_cos(ID_Data_train)\n",
    "ID_Data_train = calc_sin(ID_Data_train)\n",
    "ID_Data_test = calc_cos(ID_Data_test)\n",
    "ID_Data_test = calc_sin(ID_Data_test)"
   ]
  },
  {
   "cell_type": "code",
   "execution_count": 29,
   "metadata": {
    "collapsed": true
   },
   "outputs": [],
   "source": [
    "def find_inflexion(boat, direction):\n",
    "    '''Identify the changes of the states of the race'''\n",
    "    window = 100\n",
    "    curve = ID_Data_train.loc[ID_Data_train['id'] == boat, direction].rolling(window).mean().dropna().values\n",
    "    inflexions = list()\n",
    "    for i in range(100, len(curve)-1):\n",
    "        if (curve[i-1] >= curve[i] and curve[i] <= curve[i+1]) or (curve[i-1] <= curve[i] and curve[i] >= curve[i+1]):\n",
    "            if inflexions and i <= inflexions[-1] + 10:\n",
    "                continue\n",
    "            inflexions.append(window + i)\n",
    "    return inflexions"
   ]
  },
  {
   "cell_type": "code",
   "execution_count": 30,
   "metadata": {
    "collapsed": true
   },
   "outputs": [],
   "source": [
    "race_part = list()\n",
    "for race, race_gb in ID_Data_train.groupby('id_race'):\n",
    "    inflexions_len = list()\n",
    "    direction = 'longitude'\n",
    "    for b in  race_gb['id'].unique()[:3]:\n",
    "        inflexions_len.append(len(find_inflexion(boat, direction)))\n",
    "    if np.mean(inflexions_len) > 4:\n",
    "        direction = 'latitude'\n",
    "    \n",
    "    inflexions = find_inflexion(boat, 'longitude')\n",
    "    for boat, boat_gb in race_gb.groupby('id'):\n",
    "        inflexions = find_inflexion(boat, 'longitude')\n",
    "        part = 0\n",
    "        start = 0\n",
    "        for point in inflexions[:3]:\n",
    "            race_part.extend([part for _ in range(start, point)])\n",
    "            part += 1\n",
    "            start = point\n",
    "        race_part.extend([part for _ in range(start, boat_gb.shape[0])])\n",
    "\n",
    "ID_Data_train['part'] = race_part"
   ]
  },
  {
   "cell_type": "code",
   "execution_count": 31,
   "metadata": {
    "collapsed": true
   },
   "outputs": [],
   "source": [
    "ID_Data_train['lat_off1'] = [0] + list(ID_Data_train['latitude'].values[:-1])\n",
    "ID_Data_train['lng_off1'] = [0] + list(ID_Data_train['longitude'].values[:-1])\n",
    "distance_train = ID_Data_train[['latitude', 'longitude', 'lat_off1', 'lng_off1']].apply(lambda row: distance(row[0], row[1], row[2], row[3]), axis=1)\n",
    "ID_Data_train['distance'] = distance_train\n",
    "\n",
    "total = 0\n",
    "for _, gb in ID_Data_train.groupby(['id_race', 'id']):\n",
    "    ID_Data_train.iloc[total, -1] = 0\n",
    "    total += gb.shape[0]"
   ]
  },
  {
   "cell_type": "code",
   "execution_count": 32,
   "metadata": {
    "collapsed": true
   },
   "outputs": [],
   "source": [
    "ID_Data_test['lat_off1'] = [0] + list(ID_Data_test['latitude'].values[:-1])\n",
    "ID_Data_test['lng_off1'] = [0] + list(ID_Data_test['longitude'].values[:-1])\n",
    "distance_test = ID_Data_test[['latitude', 'longitude', 'lat_off1', 'lng_off1']].apply(lambda row: distance(row[0], row[1], row[2], row[3]), axis=1)\n",
    "ID_Data_test['distance'] = distance_test\n",
    "\n",
    "total = 0\n",
    "for _, gb in ID_Data_test.groupby(['id_race', 'id']):\n",
    "    ID_Data_test.iloc[total, -1] = 0\n",
    "    total += gb.shape[0]"
   ]
  },
  {
   "cell_type": "markdown",
   "metadata": {},
   "source": [
    "## Feature engineering"
   ]
  },
  {
   "cell_type": "code",
   "execution_count": 34,
   "metadata": {},
   "outputs": [],
   "source": [
    "features = {\n",
    "            'boat' : list(),\n",
    "            'mean_cos' : list(),\n",
    "            'std_cos' : list(),\n",
    "            'std_cap' : list(),\n",
    "            \n",
    "            'total_dist_0' : list(),\n",
    "            'mean_cos_0' : list(),\n",
    "            'median_cos_0' : list(),\n",
    "            'std_cos_0' : list(),\n",
    "            'std_cap_0' : list(),\n",
    "            \n",
    "            'total_dist_1' : list(),\n",
    "            'mean_cos_1' : list(),\n",
    "            'median_cos_1' : list(),\n",
    "            'std_cos_1' : list(),\n",
    "            'std_cap_1' : list(),\n",
    "            \n",
    "            'total_dist_2' : list(),\n",
    "            'mean_cos_2' : list(),\n",
    "            'median_cos_2' : list(),\n",
    "            'std_cos_2' : list(),\n",
    "            'std_cap_2' : list(),\n",
    "            \n",
    "            'total_dist_3' : list(),\n",
    "            'mean_cos_3' : list(),\n",
    "            'median_cos_3' : list(),\n",
    "            'std_cos_3' : list(),\n",
    "            'std_cap_3' : list()\n",
    "}\n",
    "\n",
    "for race, gb_race in ID_Data_train.groupby('id_race'):\n",
    "    feats = list()\n",
    "    \n",
    "    for boat, gb_boat in gb_race.groupby('id'):\n",
    "        cos = gb_boat['cos_angle'].values\n",
    "        dist = gb_boat['distance'].values\n",
    "        features['boat'].append(boat)\n",
    "        \n",
    "        features['mean_cos'].append(np.nanmean(cos))\n",
    "        features['std_cos'].append(np.nanstd(cos))\n",
    "        features['std_cap'].append(gb_boat['cap'].std())\n",
    "    \n",
    "        for part, gb_part in gb_boat.groupby('part'):\n",
    "            part = str(part)\n",
    "            cos_part = gb_part['cos_angle'].values\n",
    "            dist_part = gb_part['distance'].values\n",
    "            features['total_dist_' + part].append(sum(dist_part))\n",
    "            features['mean_cos_' + part].append(np.nanmean(cos_part))\n",
    "            features['median_cos_' + part].append(np.nanmedian(cos_part))\n",
    "            features['std_cos_' + part].append(np.nanstd(cos_part))\n",
    "            features['std_cap_' + part].append(gb_part['cap'].std())\n",
    "\n",
    "features_df_train_part = pd.DataFrame(features)"
   ]
  },
  {
   "cell_type": "code",
   "execution_count": 35,
   "metadata": {
    "collapsed": true,
    "scrolled": true
   },
   "outputs": [],
   "source": [
    "def generate_features(df, borne_low, borne_high):\n",
    "    features = {'race' : list(),\n",
    "            'boat' : list(),\n",
    "            'total_dist' : list(),\n",
    "            'total_dist_ratio_mean' : list(),\n",
    "            'total_dist_diff_mean' : list(),\n",
    "#             'total_dist_ratio_min' : list(),\n",
    "#             'total_dist_ratio_max' : list(),\n",
    "            \n",
    "            'slow_prop' : list(),\n",
    "            'slow_mean' : list(),\n",
    "            'slow_std' : list(),\n",
    "            'slow_dist' : list(),\n",
    "            'slow_prop_ratio_mean' : list(),\n",
    "#             'fast_prop_ratio_min' : list(),\n",
    "#             'fast_prop_ratio_max' : list(),\n",
    "            'slow_mean_ratio_mean' : list(),\n",
    "            'slow_std_ratio_mean' : list(),\n",
    "            'slow_dist_ratio_mean' : list(),\n",
    "            \n",
    "            'mid_prop' : list(),\n",
    "            'mid_mean' : list(),\n",
    "            'mid_std' : list(),\n",
    "            'mid_dist' : list(),\n",
    "            'mid_prop_ratio_mean' : list(),\n",
    "#             'mid_prop_ratio_min' : list(),\n",
    "#             'mid_prop_ratio_max' : list(),\n",
    "            'mid_mean_ratio_mean' : list(),\n",
    "            'mid_std_ratio_mean' : list(),\n",
    "            'mid_dist_ratio_mean' : list(),\n",
    "                \n",
    "#             'left_prop' : list(),\n",
    "#             'left_mean' : list(),\n",
    "#             'left_std' : list(),\n",
    "#             'left_dist' : list(),\n",
    "#             'left_prop_ratio_mean' : list(),\n",
    "#             'left_mean_ratio_mean' : list(),\n",
    "#             'left_std_ratio_mean' : list(),\n",
    "#             'left_dist_ratio_mean' : list(),\n",
    "                \n",
    "#             'right_prop' : list(),\n",
    "#             'right_mean' : list(),\n",
    "#             'right_std' : list(),\n",
    "#             'right_dist' : list(),\n",
    "                \n",
    "#             'mid_cap_prop' : list(),\n",
    "#             'mid_cap_mean' : list(),\n",
    "#             'mid_cap_std' : list(),\n",
    "#             'mid_cap_dist' : list(),\n",
    "#             'right_prop_ratio_mean' : list(),\n",
    "#             'right_mean_ratio_mean' : list(),\n",
    "#             'right_std_ratio_mean' : list(),\n",
    "#             'right_dist_ratio_mean' : list(),\n",
    "\n",
    "           }\n",
    "            \n",
    "\n",
    "    races = list()\n",
    "    boats = list()\n",
    "\n",
    "    for race, gb_race in df.groupby('id_race'):\n",
    "        feats = list()\n",
    "        all_dist = list()\n",
    "        all_fast_prop = list()\n",
    "        all_fast_mean = list()\n",
    "        all_fast_std = list()\n",
    "        all_fast_dist = list()\n",
    "\n",
    "        all_mid_prop = list()\n",
    "        all_mid_mean = list()\n",
    "        all_mid_std = list()\n",
    "        all_mid_dist = list()\n",
    "\n",
    "        all_slow_prop = list()\n",
    "        all_slow_mean = list()\n",
    "        all_slow_std = list()\n",
    "        all_slow_dist = list()\n",
    "        \n",
    "#         all_left_prop = list()\n",
    "#         all_left_mean = list()\n",
    "#         all_left_std = list()\n",
    "#         all_left_dist = list()\n",
    "\n",
    "#         all_right_prop = list()\n",
    "#         all_right_mean = list()\n",
    "#         all_right_std = list()\n",
    "#         all_right_dist = list()\n",
    "\n",
    "        for boat, gb_boat in gb_race.groupby('id'):\n",
    "            cos = gb_boat['cos_angle'].values\n",
    "            sin = gb_boat['sin_angle'].values\n",
    "            dist = gb_boat['distance'].values\n",
    "            features['race'].append(race)\n",
    "            features['boat'].append(boat)\n",
    "\n",
    "            fast = cos > borne_high\n",
    "            mid = ((borne_low > cos) * (cos < borne_high)).astype(bool)\n",
    "            slow = cos < borne_low\n",
    "            left = sin > 0.5\n",
    "            right = sin < -0.5\n",
    "            mid_cap = ((0.5 > sin) * (sin < -0.5)).astype(bool)\n",
    "\n",
    "            total_dist = sum(dist)\n",
    "            all_dist.append(total_dist)\n",
    "            features['total_dist'].append(total_dist)\n",
    "\n",
    "            features['slow_prop'].append(fast.mean())\n",
    "            all_fast_prop.append(fast.mean())\n",
    "            features['slow_mean'].append(cos[fast].mean())\n",
    "            all_fast_mean.append(cos[fast].mean())\n",
    "            features['slow_std'].append(cos[fast].std())\n",
    "            all_fast_std.append(cos[fast].std())\n",
    "            features['slow_dist'].append(dist[fast].sum())\n",
    "            all_fast_dist.append(dist[fast].sum())\n",
    "\n",
    "            features['mid_prop'].append(mid.mean())\n",
    "            all_mid_prop.append(mid.mean())\n",
    "            features['mid_mean'].append(cos[mid].mean())\n",
    "            all_mid_mean.append(cos[mid].mean())\n",
    "            features['mid_std'].append(cos[mid].std())\n",
    "            all_mid_std.append(cos[mid].std())    \n",
    "            features['mid_dist'].append(dist[mid].sum())\n",
    "            all_mid_dist.append(dist[mid].sum())\n",
    "            \n",
    "#             features['left_prop'].append(left.mean())\n",
    "#             all_left_prop.append(left.mean())\n",
    "#             features['left_mean'].append(sin[left].mean())\n",
    "#             all_left_mean.append(sin[left].mean())\n",
    "#             features['left_std'].append(sin[left].std())\n",
    "#             all_left_std.append(sin[left].std())\n",
    "#             features['left_dist'].append(dist[left].sum())\n",
    "#             all_left_dist.append(dist[left].sum())\n",
    "\n",
    "#             features['right_prop'].append(right.mean())\n",
    "#             all_right_prop.append(right.mean())\n",
    "#             features['right_mean'].append(sin[right].mean())\n",
    "#             all_right_mean.append(sin[right].mean())\n",
    "#             features['right_std'].append(sin[right].std())\n",
    "#             all_right_std.append(sin[right].std())    \n",
    "#             features['right_dist'].append(dist[right].sum())\n",
    "#             all_right_dist.append(dist[right].sum())\n",
    "            \n",
    "#             features['mid_cap_prop'].append(mid_cap.mean())\n",
    "#             features['mid_cap_mean'].append(sin[mid_cap].mean())\n",
    "#             features['mid_cap_std'].append(sin[mid_cap].std())\n",
    "#             features['mid_cap_dist'].append(dist[mid_cap].sum())\n",
    "\n",
    "        features['total_dist_ratio_mean'].extend(np.array(all_dist) / np.mean(all_dist))\n",
    "        features['total_dist_diff_mean'].extend(np.array(all_dist) - np.mean(all_dist))\n",
    "#         features['total_dist_ratio_min'].extend(np.array(all_dist) / np.min(all_dist))\n",
    "#         features['total_dist_ratio_max'].extend(np.array(all_dist) / np.max(all_dist))\n",
    "        \n",
    "        features['slow_prop_ratio_mean'].extend(np.array(all_fast_prop) / np.mean(all_fast_prop))\n",
    "# #         features['fast_prop_ratio_min'].extend(np.array(all_fast_prop) / np.min(all_fast_prop))\n",
    "# #         features['fast_prop_ratio_max'].extend(np.array(all_fast_prop) / np.max(all_fast_prop))\n",
    "        features['slow_mean_ratio_mean'].extend(np.array(all_fast_mean) / np.mean(all_fast_mean))\n",
    "        features['slow_std_ratio_mean'].extend(np.array(all_fast_std) / np.mean(all_fast_std))\n",
    "        features['slow_dist_ratio_mean'].extend(np.array(all_fast_dist) / np.mean(all_fast_dist))\n",
    "\n",
    "        features['mid_prop_ratio_mean'].extend(np.array(all_mid_prop) / np.mean(all_mid_prop))\n",
    "# #         features['mid_prop_ratio_min'].extend(np.array(all_fast_prop) / np.min(all_fast_prop))\n",
    "# #         features['mid_prop_ratio_max'].extend(np.array(all_fast_prop) / np.max(all_fast_prop))\n",
    "        features['mid_mean_ratio_mean'].extend(np.array(all_mid_mean) / np.mean(all_mid_mean))\n",
    "        features['mid_std_ratio_mean'].extend(np.array(all_mid_std) / np.mean(all_mid_std))\n",
    "        features['mid_dist_ratio_mean'].extend(np.array(all_mid_dist) / np.mean(all_mid_dist))\n",
    "\n",
    "#         features['left_prop_ratio_mean'].extend(np.array(all_left_prop) / np.mean(all_left_prop))\n",
    "# #         features['mid_prop_ratio_min'].extend(np.array(all_fast_prop) / np.min(all_fast_prop))\n",
    "# #         features['mid_prop_ratio_max'].extend(np.array(all_fast_prop) / np.max(all_fast_prop))\n",
    "#         features['left_mean_ratio_mean'].extend(np.array(all_left_mean) / np.mean(all_left_mean))\n",
    "#         features['left_std_ratio_mean'].extend(np.array(all_left_std) / np.mean(all_left_std))\n",
    "#         features['left_dist_ratio_mean'].extend(np.array(all_left_dist) / np.mean(all_left_dist))\n",
    "        \n",
    "#         features['right_prop_ratio_mean'].extend(np.array(all_right_prop) / np.mean(all_right_prop))\n",
    "# #         features['mid_prop_ratio_min'].extend(np.array(all_fast_prop) / np.min(all_fast_prop))\n",
    "# #         features['mid_prop_ratio_max'].extend(np.array(all_fast_prop) / np.max(all_fast_prop))\n",
    "#         features['right_mean_ratio_mean'].extend(np.array(all_right_mean) / np.mean(all_right_mean))\n",
    "#         features['right_std_ratio_mean'].extend(np.array(all_right_std) / np.mean(all_right_std))\n",
    "#         features['right_dist_ratio_mean'].extend(np.array(all_right_dist) / np.mean(all_right_dist))\n",
    "    \n",
    "#     print([(feat, len(features[feat])) for feat in features])\n",
    "    features_df = pd.DataFrame(features)\n",
    "    \n",
    "    race_dummies = pd.get_dummies(df.drop_duplicates(['id_race', 'id']).sort_values(['id_race', 'id'])['id_race'])\n",
    "    for race in race_dummies.columns:\n",
    "        features_df[race] = race_dummies[race].values\n",
    "    return features_df"
   ]
  },
  {
   "cell_type": "code",
   "execution_count": 36,
   "metadata": {
    "collapsed": true
   },
   "outputs": [],
   "source": [
    "def generate_features(df, borne_low, borne_high):\n",
    "    features = {'race' : list(),\n",
    "            'boat' : list(),\n",
    "            'total_dist' : list(),\n",
    "            'total_dist_ratio_mean' : list(),\n",
    "            'total_dist_diff_mean' : list(),\n",
    "            \n",
    "            'slow_prop' : list(),\n",
    "            'slow_mean' : list(),\n",
    "            'slow_std' : list(),\n",
    "            'slow_dist' : list(),\n",
    "            'slow_prop_ratio_mean' : list(),\n",
    "            'slow_mean_ratio_mean' : list(),\n",
    "            'slow_std_ratio_mean' : list(),\n",
    "            'slow_dist_ratio_mean' : list(),\n",
    "            \n",
    "            'mid_prop' : list(),\n",
    "            'mid_mean' : list(),\n",
    "            'mid_std' : list(),\n",
    "#             'mid_dist' : list(),\n",
    "            'mid_prop_ratio_mean' : list(),\n",
    "            'mid_mean_ratio_mean' : list(),\n",
    "            'mid_std_ratio_mean' : list(),\n",
    "#             'mid_dist_ratio_mean' : list(),\n",
    "\n",
    "           }\n",
    "            \n",
    "\n",
    "    races = list()\n",
    "    boats = list()\n",
    "\n",
    "    for race, gb_race in df.groupby('id_race'):\n",
    "        feats = list()\n",
    "        all_dist = list()\n",
    "        all_fast_prop = list()\n",
    "        all_fast_mean = list()\n",
    "        all_fast_std = list()\n",
    "        all_fast_dist = list()\n",
    "\n",
    "        all_mid_prop = list()\n",
    "        all_mid_mean = list()\n",
    "        all_mid_std = list()\n",
    "        all_mid_dist = list()\n",
    "\n",
    "        all_slow_prop = list()\n",
    "        all_slow_mean = list()\n",
    "        all_slow_std = list()\n",
    "        all_slow_dist = list()\n",
    "\n",
    "        for boat, gb_boat in gb_race.groupby('id'):\n",
    "            cos = gb_boat['cos_angle'].values\n",
    "            sin = gb_boat['sin_angle'].values\n",
    "            dist = gb_boat['distance'].values\n",
    "            features['race'].append(race)\n",
    "            features['boat'].append(boat)\n",
    "\n",
    "            fast = cos > borne_high\n",
    "            mid = ((borne_low > cos) * (cos < borne_high)).astype(bool)\n",
    "            slow = cos < borne_low\n",
    "\n",
    "            total_dist = sum(dist)\n",
    "            all_dist.append(total_dist)\n",
    "            features['total_dist'].append(total_dist)\n",
    "\n",
    "            features['slow_prop'].append(fast.mean())\n",
    "            all_fast_prop.append(fast.mean())\n",
    "            features['slow_mean'].append(cos[fast].mean())\n",
    "            all_fast_mean.append(cos[fast].mean())\n",
    "            features['slow_std'].append(cos[fast].std())\n",
    "            all_fast_std.append(cos[fast].std())\n",
    "            features['slow_dist'].append(dist[fast].sum())\n",
    "            all_fast_dist.append(dist[fast].sum())\n",
    "\n",
    "            features['mid_prop'].append(mid.mean())\n",
    "            all_mid_prop.append(mid.mean())\n",
    "            features['mid_mean'].append(cos[mid].mean())\n",
    "            all_mid_mean.append(cos[mid].mean())\n",
    "            features['mid_std'].append(cos[mid].std())\n",
    "            all_mid_std.append(cos[mid].std())    \n",
    "#             features['mid_dist'].append(dist[mid].sum())\n",
    "#             all_mid_dist.append(dist[mid].sum())\n",
    "\n",
    "        features['total_dist_ratio_mean'].extend(np.array(all_dist) / np.mean(all_dist))\n",
    "        features['total_dist_diff_mean'].extend(np.array(all_dist) - np.mean(all_dist))\n",
    "        \n",
    "        features['slow_prop_ratio_mean'].extend(np.array(all_fast_prop) / np.mean(all_fast_prop))\n",
    "        features['slow_mean_ratio_mean'].extend(np.array(all_fast_mean) / np.mean(all_fast_mean))\n",
    "        features['slow_std_ratio_mean'].extend(np.array(all_fast_std) / np.mean(all_fast_std))\n",
    "        features['slow_dist_ratio_mean'].extend(np.array(all_fast_dist) / np.mean(all_fast_dist))\n",
    "\n",
    "        features['mid_prop_ratio_mean'].extend(np.array(all_mid_prop) / np.mean(all_mid_prop))\n",
    "        features['mid_mean_ratio_mean'].extend(np.array(all_mid_mean) / np.mean(all_mid_mean))\n",
    "        features['mid_std_ratio_mean'].extend(np.array(all_mid_std) / np.mean(all_mid_std))\n",
    "#         features['mid_dist_ratio_mean'].extend(np.array(all_mid_dist) / np.mean(all_mid_dist))\n",
    "    \n",
    "    features_df = pd.DataFrame(features)\n",
    "    \n",
    "#     race_dummies = pd.get_dummies(df.drop_duplicates(['id_race', 'id']).sort_values(['id_race', 'id'])['id_race'])\n",
    "#     for race in race_dummies.columns:\n",
    "#         features_df[race] = race_dummies[race].values\n",
    "    return features_df"
   ]
  },
  {
   "cell_type": "code",
   "execution_count": 37,
   "metadata": {},
   "outputs": [],
   "source": [
    "ID_Data = pd.concat([ID_Data_test, ID_Data_train])\n",
    "id_test = ID_Data_test['id'].unique()\n",
    "id_train = ID_Data_train['id'].unique()"
   ]
  },
  {
   "cell_type": "markdown",
   "metadata": {},
   "source": [
    "## Modeling"
   ]
  },
  {
   "cell_type": "code",
   "execution_count": 40,
   "metadata": {
    "collapsed": true
   },
   "outputs": [],
   "source": [
    "import xgboost as xgb\n",
    "from sklearn.ensemble import RandomForestRegressor\n",
    "\n",
    "def evaluate(df, model='xgb'):\n",
    "    features_used = [feat for feat in df.columns if feat not in ['race', 'boat']]\n",
    "    X = df.sort_values(['race', 'boat'])[features_used].values\n",
    "    y = ID_Time_train.sort_values(['id_race', 'id'])['temps'].values\n",
    "\n",
    "    # récupération index de la course\n",
    "    split = ID_Time_train.groupby(['id_race', 'id']).count().reset_index()['id_race'].apply(lambda x: int(x[1:])).values\n",
    "\n",
    "    ground_truth = list()\n",
    "    predictions = list()\n",
    "\n",
    "    with tqdm(total=len(set(split))*2) as pbar:\n",
    "        for race in set(split):\n",
    "\n",
    "            for modulo in [0, 1]:\n",
    "                test_split = ((split == race) * (np.array([i%2 == modulo for i in range(len(split))]))).astype(bool)\n",
    "\n",
    "                X_test = X[test_split]\n",
    "                y_test = y[test_split]\n",
    "                X_train = X[~test_split]\n",
    "                y_train = y[~test_split]\n",
    "                \n",
    "                if model == 'xgb':\n",
    "                    model = xgb.XGBRegressor()\n",
    "                else:\n",
    "                    model = RandomForestRegressor(n_estimators=100)\n",
    "                model.fit(X_train, y_train)\n",
    "                prediction = model.predict(X_test)\n",
    "\n",
    "                ground_truth.extend(y_test)\n",
    "                predictions.extend(prediction)\n",
    "\n",
    "                pbar.update(1)\n",
    "                \n",
    "    ground_truth = np.array(ground_truth)\n",
    "    predictions = np.array(predictions)\n",
    "    print(rmse(predictions, ground_truth))\n",
    "    \n",
    "    predictions \n",
    "    \n",
    "    result = pd.DataFrame({'ground_truth': ground_truth, 'prediction': predictions, 'id_race': split})\n",
    "    result['gt_rank'] = np.concatenate([np.array([np.where(np.isin(result.loc[result['id_race'] == race]['ground_truth'].argsort().values, n))[0][0]\n",
    "                                        for n in range(sum(result['id_race'] == race))])\n",
    "                                           for race in result['id_race'].unique()])\n",
    "    result['pred_rank'] = np.concatenate([np.array([np.where(np.isin(result.loc[result['id_race'] == race]['prediction'].argsort().values, n))[0][0]\n",
    "                                        for n in range(sum(result['id_race'] == race))])\n",
    "                                           for race in result['id_race'].unique()])\n",
    "    \n",
    "    score = np.abs(result['gt_rank'].values - result['pred_rank']).mean() + rmse(result['ground_truth'], result['prediction'])/np.mean(result['ground_truth'])\n",
    "    print('score:', score)\n",
    "    return result, features_used, model"
   ]
  },
  {
   "cell_type": "code",
   "execution_count": 41,
   "metadata": {},
   "outputs": [
    {
     "name": "stderr",
     "output_type": "stream",
     "text": [
      "100%|██████████| 22/22 [00:06<00:00,  2.94it/s]\n"
     ]
    },
    {
     "name": "stdout",
     "output_type": "stream",
     "text": [
      "183.75918486080798\n",
      "score: 4.796179208473404\n"
     ]
    }
   ],
   "source": [
    "features_df = generate_features(ID_Data, -0.2, 0.2)\n",
    "features_df_train = features_df.loc[features_df['boat'].isin(id_train)]\n",
    "features_df_test= features_df.loc[features_df['boat'].isin(id_test)]\n",
    "result, features_used, model = evaluate(features_df_train, 'xgb')"
   ]
  },
  {
   "cell_type": "code",
   "execution_count": 42,
   "metadata": {
    "scrolled": true
   },
   "outputs": [
    {
     "data": {
      "text/html": [
       "<div>\n",
       "<style scoped>\n",
       "    .dataframe tbody tr th:only-of-type {\n",
       "        vertical-align: middle;\n",
       "    }\n",
       "\n",
       "    .dataframe tbody tr th {\n",
       "        vertical-align: top;\n",
       "    }\n",
       "\n",
       "    .dataframe thead th {\n",
       "        text-align: right;\n",
       "    }\n",
       "</style>\n",
       "<table border=\"1\" class=\"dataframe\">\n",
       "  <thead>\n",
       "    <tr style=\"text-align: right;\">\n",
       "      <th></th>\n",
       "      <th>diff</th>\n",
       "      <th>prediction</th>\n",
       "    </tr>\n",
       "    <tr>\n",
       "      <th>id_race</th>\n",
       "      <th></th>\n",
       "      <th></th>\n",
       "    </tr>\n",
       "  </thead>\n",
       "  <tbody>\n",
       "    <tr>\n",
       "      <th>1</th>\n",
       "      <td>3.166667</td>\n",
       "      <td>24</td>\n",
       "    </tr>\n",
       "    <tr>\n",
       "      <th>2</th>\n",
       "      <td>3.360000</td>\n",
       "      <td>25</td>\n",
       "    </tr>\n",
       "    <tr>\n",
       "      <th>3</th>\n",
       "      <td>5.280000</td>\n",
       "      <td>25</td>\n",
       "    </tr>\n",
       "    <tr>\n",
       "      <th>4</th>\n",
       "      <td>3.692308</td>\n",
       "      <td>26</td>\n",
       "    </tr>\n",
       "    <tr>\n",
       "      <th>5</th>\n",
       "      <td>1.857143</td>\n",
       "      <td>14</td>\n",
       "    </tr>\n",
       "    <tr>\n",
       "      <th>6</th>\n",
       "      <td>2.571429</td>\n",
       "      <td>14</td>\n",
       "    </tr>\n",
       "    <tr>\n",
       "      <th>12</th>\n",
       "      <td>7.760000</td>\n",
       "      <td>50</td>\n",
       "    </tr>\n",
       "    <tr>\n",
       "      <th>13</th>\n",
       "      <td>6.708333</td>\n",
       "      <td>48</td>\n",
       "    </tr>\n",
       "    <tr>\n",
       "      <th>14</th>\n",
       "      <td>2.695652</td>\n",
       "      <td>23</td>\n",
       "    </tr>\n",
       "    <tr>\n",
       "      <th>21</th>\n",
       "      <td>1.500000</td>\n",
       "      <td>8</td>\n",
       "    </tr>\n",
       "    <tr>\n",
       "      <th>22</th>\n",
       "      <td>1.000000</td>\n",
       "      <td>4</td>\n",
       "    </tr>\n",
       "  </tbody>\n",
       "</table>\n",
       "</div>"
      ],
      "text/plain": [
       "             diff  prediction\n",
       "id_race                      \n",
       "1        3.166667          24\n",
       "2        3.360000          25\n",
       "3        5.280000          25\n",
       "4        3.692308          26\n",
       "5        1.857143          14\n",
       "6        2.571429          14\n",
       "12       7.760000          50\n",
       "13       6.708333          48\n",
       "14       2.695652          23\n",
       "21       1.500000           8\n",
       "22       1.000000           4"
      ]
     },
     "execution_count": 42,
     "metadata": {},
     "output_type": "execute_result"
    }
   ],
   "source": [
    "result['diff'] = np.abs(result['gt_rank'] - result['pred_rank'])\n",
    "result.groupby('id_race').agg({'diff': 'mean', 'prediction': 'count'})"
   ]
  },
  {
   "cell_type": "code",
   "execution_count": 44,
   "metadata": {
    "scrolled": true
   },
   "outputs": [
    {
     "name": "stderr",
     "output_type": "stream",
     "text": [
      "\r",
      "  0%|          | 0/22 [00:00<?, ?it/s]"
     ]
    },
    {
     "name": "stdout",
     "output_type": "stream",
     "text": [
      "low: -0.1 high: 0.1\n"
     ]
    },
    {
     "name": "stderr",
     "output_type": "stream",
     "text": [
      "100%|██████████| 22/22 [00:06<00:00,  3.39it/s]\n"
     ]
    },
    {
     "name": "stdout",
     "output_type": "stream",
     "text": [
      "189.0894816469637\n",
      "score: 4.950969923438916\n"
     ]
    },
    {
     "name": "stderr",
     "output_type": "stream",
     "text": [
      "\r",
      "  0%|          | 0/22 [00:00<?, ?it/s]"
     ]
    },
    {
     "name": "stdout",
     "output_type": "stream",
     "text": [
      "low: -0.1 high: 0.2\n"
     ]
    },
    {
     "name": "stderr",
     "output_type": "stream",
     "text": [
      "100%|██████████| 22/22 [00:05<00:00,  3.57it/s]\n"
     ]
    },
    {
     "name": "stdout",
     "output_type": "stream",
     "text": [
      "179.4792064168062\n",
      "score: 4.8562501523598405\n"
     ]
    },
    {
     "name": "stderr",
     "output_type": "stream",
     "text": [
      "\r",
      "  0%|          | 0/22 [00:00<?, ?it/s]"
     ]
    },
    {
     "name": "stdout",
     "output_type": "stream",
     "text": [
      "low: -0.1 high: 0.3\n"
     ]
    },
    {
     "name": "stderr",
     "output_type": "stream",
     "text": [
      "100%|██████████| 22/22 [00:06<00:00,  3.32it/s]\n"
     ]
    },
    {
     "name": "stdout",
     "output_type": "stream",
     "text": [
      "181.5776218349719\n",
      "score: 4.994785091340339\n"
     ]
    },
    {
     "name": "stderr",
     "output_type": "stream",
     "text": [
      "\r",
      "  0%|          | 0/22 [00:00<?, ?it/s]"
     ]
    },
    {
     "name": "stdout",
     "output_type": "stream",
     "text": [
      "low: -0.1 high: 0.4\n"
     ]
    },
    {
     "name": "stderr",
     "output_type": "stream",
     "text": [
      "100%|██████████| 22/22 [00:06<00:00,  3.45it/s]\n"
     ]
    },
    {
     "name": "stdout",
     "output_type": "stream",
     "text": [
      "184.6820935050508\n",
      "score: 5.041655540991994\n"
     ]
    },
    {
     "name": "stderr",
     "output_type": "stream",
     "text": [
      "\r",
      "  0%|          | 0/22 [00:00<?, ?it/s]"
     ]
    },
    {
     "name": "stdout",
     "output_type": "stream",
     "text": [
      "low: -0.1 high: 0.5\n"
     ]
    },
    {
     "name": "stderr",
     "output_type": "stream",
     "text": [
      "100%|██████████| 22/22 [00:05<00:00,  3.58it/s]\n"
     ]
    },
    {
     "name": "stdout",
     "output_type": "stream",
     "text": [
      "187.06920223764314\n",
      "score: 5.195599233729278\n"
     ]
    },
    {
     "name": "stderr",
     "output_type": "stream",
     "text": [
      "  5%|▍         | 1/22 [00:00<00:02,  9.78it/s]"
     ]
    },
    {
     "name": "stdout",
     "output_type": "stream",
     "text": [
      "low: -0.2 high: 0.1\n"
     ]
    },
    {
     "name": "stderr",
     "output_type": "stream",
     "text": [
      "100%|██████████| 22/22 [00:06<00:00,  3.51it/s]\n"
     ]
    },
    {
     "name": "stdout",
     "output_type": "stream",
     "text": [
      "179.27800621368328\n",
      "score: 4.886843589803376\n"
     ]
    },
    {
     "name": "stderr",
     "output_type": "stream",
     "text": [
      "\r",
      "  0%|          | 0/22 [00:00<?, ?it/s]"
     ]
    },
    {
     "name": "stdout",
     "output_type": "stream",
     "text": [
      "low: -0.2 high: 0.2\n"
     ]
    },
    {
     "name": "stderr",
     "output_type": "stream",
     "text": [
      "100%|██████████| 22/22 [00:05<00:00,  3.59it/s]\n"
     ]
    },
    {
     "name": "stdout",
     "output_type": "stream",
     "text": [
      "174.8360068356225\n",
      "score: 4.8625767178280235\n"
     ]
    },
    {
     "name": "stderr",
     "output_type": "stream",
     "text": [
      "\r",
      "  0%|          | 0/22 [00:00<?, ?it/s]"
     ]
    },
    {
     "name": "stdout",
     "output_type": "stream",
     "text": [
      "low: -0.2 high: 0.3\n"
     ]
    },
    {
     "name": "stderr",
     "output_type": "stream",
     "text": [
      "100%|██████████| 22/22 [00:05<00:00,  3.50it/s]\n"
     ]
    },
    {
     "name": "stdout",
     "output_type": "stream",
     "text": [
      "177.45460071149375\n",
      "score: 4.848004654363944\n"
     ]
    },
    {
     "name": "stderr",
     "output_type": "stream",
     "text": [
      "\r",
      "  0%|          | 0/22 [00:00<?, ?it/s]"
     ]
    },
    {
     "name": "stdout",
     "output_type": "stream",
     "text": [
      "low: -0.2 high: 0.4\n"
     ]
    },
    {
     "name": "stderr",
     "output_type": "stream",
     "text": [
      "100%|██████████| 22/22 [00:05<00:00,  3.72it/s]\n"
     ]
    },
    {
     "name": "stdout",
     "output_type": "stream",
     "text": [
      "180.7943889163001\n",
      "score: 4.818314473441669\n"
     ]
    },
    {
     "name": "stderr",
     "output_type": "stream",
     "text": [
      "\r",
      "  0%|          | 0/22 [00:00<?, ?it/s]"
     ]
    },
    {
     "name": "stdout",
     "output_type": "stream",
     "text": [
      "low: -0.2 high: 0.5\n"
     ]
    },
    {
     "name": "stderr",
     "output_type": "stream",
     "text": [
      "100%|██████████| 22/22 [00:06<00:00,  3.62it/s]\n"
     ]
    },
    {
     "name": "stdout",
     "output_type": "stream",
     "text": [
      "174.98174837326607\n",
      "score: 4.8549558256419845\n"
     ]
    },
    {
     "name": "stderr",
     "output_type": "stream",
     "text": [
      "\r",
      "  0%|          | 0/22 [00:00<?, ?it/s]"
     ]
    },
    {
     "name": "stdout",
     "output_type": "stream",
     "text": [
      "low: -0.3 high: 0.1\n"
     ]
    },
    {
     "name": "stderr",
     "output_type": "stream",
     "text": [
      "100%|██████████| 22/22 [00:06<00:00,  2.77it/s]\n"
     ]
    },
    {
     "name": "stdout",
     "output_type": "stream",
     "text": [
      "181.15607654951071\n",
      "score: 4.803092893290321\n"
     ]
    },
    {
     "name": "stderr",
     "output_type": "stream",
     "text": [
      "\r",
      "  0%|          | 0/22 [00:00<?, ?it/s]"
     ]
    },
    {
     "name": "stdout",
     "output_type": "stream",
     "text": [
      "low: -0.3 high: 0.2\n"
     ]
    },
    {
     "name": "stderr",
     "output_type": "stream",
     "text": [
      "100%|██████████| 22/22 [00:08<00:00,  2.61it/s]\n"
     ]
    },
    {
     "name": "stdout",
     "output_type": "stream",
     "text": [
      "177.4771971695276\n",
      "score: 4.855673992664061\n"
     ]
    },
    {
     "name": "stderr",
     "output_type": "stream",
     "text": [
      "\r",
      "  0%|          | 0/22 [00:00<?, ?it/s]"
     ]
    },
    {
     "name": "stdout",
     "output_type": "stream",
     "text": [
      "low: -0.3 high: 0.3\n"
     ]
    },
    {
     "name": "stderr",
     "output_type": "stream",
     "text": [
      "100%|██████████| 22/22 [00:08<00:00,  1.89it/s]\n"
     ]
    },
    {
     "name": "stdout",
     "output_type": "stream",
     "text": [
      "177.8075491723892\n",
      "score: 4.664198183680919\n"
     ]
    },
    {
     "name": "stderr",
     "output_type": "stream",
     "text": [
      "  5%|▍         | 1/22 [00:00<00:02,  9.30it/s]"
     ]
    },
    {
     "name": "stdout",
     "output_type": "stream",
     "text": [
      "low: -0.3 high: 0.4\n"
     ]
    },
    {
     "name": "stderr",
     "output_type": "stream",
     "text": [
      "100%|██████████| 22/22 [00:06<00:00,  3.29it/s]\n"
     ]
    },
    {
     "name": "stdout",
     "output_type": "stream",
     "text": [
      "180.93631488453127\n",
      "score: 4.9946005291471485\n"
     ]
    },
    {
     "name": "stderr",
     "output_type": "stream",
     "text": [
      "\r",
      "  0%|          | 0/22 [00:00<?, ?it/s]"
     ]
    },
    {
     "name": "stdout",
     "output_type": "stream",
     "text": [
      "low: -0.3 high: 0.5\n"
     ]
    },
    {
     "name": "stderr",
     "output_type": "stream",
     "text": [
      "100%|██████████| 22/22 [00:06<00:00,  3.14it/s]\n"
     ]
    },
    {
     "name": "stdout",
     "output_type": "stream",
     "text": [
      "172.43924230669415\n",
      "score: 4.7852585987325185\n"
     ]
    },
    {
     "name": "stderr",
     "output_type": "stream",
     "text": [
      "\r",
      "  0%|          | 0/22 [00:00<?, ?it/s]"
     ]
    },
    {
     "name": "stdout",
     "output_type": "stream",
     "text": [
      "low: -0.4 high: 0.1\n"
     ]
    },
    {
     "name": "stderr",
     "output_type": "stream",
     "text": [
      "100%|██████████| 22/22 [00:13<00:00,  2.11it/s]\n"
     ]
    },
    {
     "name": "stdout",
     "output_type": "stream",
     "text": [
      "179.27219378024546\n",
      "score: 4.894504752287976\n"
     ]
    },
    {
     "name": "stderr",
     "output_type": "stream",
     "text": [
      "\r",
      "  0%|          | 0/22 [00:00<?, ?it/s]"
     ]
    },
    {
     "name": "stdout",
     "output_type": "stream",
     "text": [
      "low: -0.4 high: 0.2\n"
     ]
    },
    {
     "name": "stderr",
     "output_type": "stream",
     "text": [
      "100%|██████████| 22/22 [00:06<00:00,  3.43it/s]\n"
     ]
    },
    {
     "name": "stdout",
     "output_type": "stream",
     "text": [
      "178.68378682724241\n",
      "score: 4.78705572073689\n"
     ]
    },
    {
     "name": "stderr",
     "output_type": "stream",
     "text": [
      "\r",
      "  0%|          | 0/22 [00:00<?, ?it/s]"
     ]
    },
    {
     "name": "stdout",
     "output_type": "stream",
     "text": [
      "low: -0.4 high: 0.3\n"
     ]
    },
    {
     "name": "stderr",
     "output_type": "stream",
     "text": [
      "100%|██████████| 22/22 [00:06<00:00,  3.30it/s]\n"
     ]
    },
    {
     "name": "stdout",
     "output_type": "stream",
     "text": [
      "172.07579699544286\n",
      "score: 4.555268945071077\n"
     ]
    },
    {
     "name": "stderr",
     "output_type": "stream",
     "text": [
      "\r",
      "  0%|          | 0/22 [00:00<?, ?it/s]"
     ]
    },
    {
     "name": "stdout",
     "output_type": "stream",
     "text": [
      "low: -0.4 high: 0.4\n"
     ]
    },
    {
     "name": "stderr",
     "output_type": "stream",
     "text": [
      "100%|██████████| 22/22 [00:06<00:00,  2.75it/s]\n"
     ]
    },
    {
     "name": "stdout",
     "output_type": "stream",
     "text": [
      "177.38233783883058\n",
      "score: 4.74070416429273\n"
     ]
    },
    {
     "name": "stderr",
     "output_type": "stream",
     "text": [
      "\r",
      "  0%|          | 0/22 [00:00<?, ?it/s]"
     ]
    },
    {
     "name": "stdout",
     "output_type": "stream",
     "text": [
      "low: -0.4 high: 0.5\n"
     ]
    },
    {
     "name": "stderr",
     "output_type": "stream",
     "text": [
      "100%|██████████| 22/22 [00:07<00:00,  3.03it/s]\n"
     ]
    },
    {
     "name": "stdout",
     "output_type": "stream",
     "text": [
      "169.20363863099038\n",
      "score: 4.677047728513358\n"
     ]
    },
    {
     "name": "stderr",
     "output_type": "stream",
     "text": [
      "\r",
      "  0%|          | 0/22 [00:00<?, ?it/s]"
     ]
    },
    {
     "name": "stdout",
     "output_type": "stream",
     "text": [
      "low: -0.5 high: 0.1\n"
     ]
    },
    {
     "name": "stderr",
     "output_type": "stream",
     "text": [
      "100%|██████████| 22/22 [00:08<00:00,  2.58it/s]\n"
     ]
    },
    {
     "name": "stdout",
     "output_type": "stream",
     "text": [
      "181.74623777598876\n",
      "score: 4.826251241965581\n"
     ]
    },
    {
     "name": "stderr",
     "output_type": "stream",
     "text": [
      "\r",
      "  0%|          | 0/22 [00:00<?, ?it/s]"
     ]
    },
    {
     "name": "stdout",
     "output_type": "stream",
     "text": [
      "low: -0.5 high: 0.2\n"
     ]
    },
    {
     "name": "stderr",
     "output_type": "stream",
     "text": [
      "100%|██████████| 22/22 [00:06<00:00,  2.40it/s]\n"
     ]
    },
    {
     "name": "stdout",
     "output_type": "stream",
     "text": [
      "185.51822066005434\n",
      "score: 4.5821260556908685\n"
     ]
    },
    {
     "name": "stderr",
     "output_type": "stream",
     "text": [
      "\r",
      "  0%|          | 0/22 [00:00<?, ?it/s]"
     ]
    },
    {
     "name": "stdout",
     "output_type": "stream",
     "text": [
      "low: -0.5 high: 0.3\n"
     ]
    },
    {
     "name": "stderr",
     "output_type": "stream",
     "text": [
      "100%|██████████| 22/22 [00:09<00:00,  2.19it/s]\n"
     ]
    },
    {
     "name": "stdout",
     "output_type": "stream",
     "text": [
      "181.09168469494585\n",
      "score: 4.519549457697154\n"
     ]
    },
    {
     "name": "stderr",
     "output_type": "stream",
     "text": [
      "  5%|▍         | 1/22 [00:00<00:02,  9.00it/s]"
     ]
    },
    {
     "name": "stdout",
     "output_type": "stream",
     "text": [
      "low: -0.5 high: 0.4\n"
     ]
    },
    {
     "name": "stderr",
     "output_type": "stream",
     "text": [
      "100%|██████████| 22/22 [00:06<00:00,  3.57it/s]\n"
     ]
    },
    {
     "name": "stdout",
     "output_type": "stream",
     "text": [
      "180.55029497733426\n",
      "score: 4.848895566465803\n"
     ]
    },
    {
     "name": "stderr",
     "output_type": "stream",
     "text": [
      "\r",
      "  0%|          | 0/22 [00:00<?, ?it/s]"
     ]
    },
    {
     "name": "stdout",
     "output_type": "stream",
     "text": [
      "low: -0.5 high: 0.5\n"
     ]
    },
    {
     "name": "stderr",
     "output_type": "stream",
     "text": [
      "100%|██████████| 22/22 [00:06<00:00,  2.52it/s]\n"
     ]
    },
    {
     "name": "stdout",
     "output_type": "stream",
     "text": [
      "176.0669700831101\n",
      "score: 4.778639789895878\n"
     ]
    }
   ],
   "source": [
    "for borne_low in [-0.1, -0.2, -0.3, -0.4, -0.5]:\n",
    "    for borne_high in [0.1, 0.2, 0.3, 0.4, 0.5]:\n",
    "        features_df = generate_features(ID_Data, borne_low, borne_high)\n",
    "        features_df_train = features_df.loc[features_df['boat'].isin(id_train)]\n",
    "        features_df_test= features_df.loc[features_df['boat'].isin(id_test)]\n",
    "        print('low:', borne_low, 'high:', borne_high)\n",
    "        evaluate(features_df_train)"
   ]
  },
  {
   "cell_type": "markdown",
   "metadata": {},
   "source": [
    "## Features importance"
   ]
  },
  {
   "cell_type": "code",
   "execution_count": 45,
   "metadata": {},
   "outputs": [
    {
     "data": {
      "text/plain": [
       "<Container object of 17 artists>"
      ]
     },
     "execution_count": 45,
     "metadata": {},
     "output_type": "execute_result"
    },
    {
     "data": {
      "image/png": "[encoded data removed]",
      "text/plain": [
       "<matplotlib.figure.Figure at 0x1108b5320>"
      ]
     },
     "metadata": {
      "needs_background": "light"
     },
     "output_type": "display_data"
    }
   ],
   "source": [
    "plt.figure(figsize=(20, 10))\n",
    "plt.xticks(rotation=90)\n",
    "\n",
    "plt.bar(range(len(model.feature_importances_)),\n",
    "        sorted(model.feature_importances_),\n",
    "        tick_label=np.array(features_used)[np.argsort(model.feature_importances_)])"
   ]
  },
  {
   "cell_type": "code",
   "execution_count": 46,
   "metadata": {},
   "outputs": [],
   "source": [
    "features_df = generate_features(ID_Data, -0.2, 0.2)\n",
    "features_df_train = features_df.loc[features_df['boat'].isin(id_train)]\n",
    "features_df_test= features_df.loc[features_df['boat'].isin(id_test)]\n",
    "\n",
    "X = features_df_train.sort_values(['race', 'boat'])[features_used].values\n",
    "y = ID_Time_train.sort_values(['id_race', 'id'])['temps'].values\n",
    "    \n",
    "#model = xgb.XGBRegressor()\n",
    "model = RandomForestRegressor()\n",
    "model.fit(X, y)\n",
    "\n",
    "X_test = features_df_test.sort_values(['race', 'boat'])[[feat for feat in features_used]].values\n",
    "\n",
    "prediction = model.predict(X_test)\n",
    "prediction_df = pd.DataFrame({'id' : features_df_test.sort_values(['race', 'boat'])['boat'], 'prediction': prediction})"
   ]
  },
  {
   "cell_type": "code",
   "execution_count": 47,
   "metadata": {
    "collapsed": true
   },
   "outputs": [],
   "source": [
    "sample_submission = pd.read_csv('data/sample_sub_kaggle.csv')\n",
    "\n",
    "sample_submission = sample_submission.merge(prediction_df, how='left')\n",
    "sample_submission['temps'] = sample_submission['prediction']\n",
    "sample_submission = sample_submission.drop('prediction', axis=1)"
   ]
  },
  {
   "cell_type": "code",
   "execution_count": 48,
   "metadata": {
    "collapsed": true,
    "scrolled": true
   },
   "outputs": [],
   "source": [
    "sample_submission[['id', 'temps']].to_csv('submission.csv', index=False)"
   ]
  },
  {
   "cell_type": "code",
   "execution_count": 49,
   "metadata": {
    "collapsed": true
   },
   "outputs": [],
   "source": [
    "sample_sub_coachs = pd.read_csv('data/sample_sub_coachs.csv')\n",
    "\n",
    "sample_sub_coachs = sample_sub_coachs.merge(prediction_df, how='left')\n",
    "sample_sub_coachs['temps'] = sample_sub_coachs['prediction']\n",
    "sample_sub_coachs = sample_sub_coachs.drop('prediction', axis=1)\n",
    "sample_sub_coachs = pd.concat([ID_Time_train[['id', 'id_race', 'temps']], sample_sub_coachs])\n",
    "sample_sub_coachs = sample_sub_coachs.sort_values(['id_race', 'id'])\n",
    "sample_sub_coachs['rang'] = np.concatenate([np.array([np.where(np.isin(sample_sub_coachs.loc[sample_sub_coachs['id_race'] == race]['temps'].argsort().values, n))[0][0]\n",
    "                                    for n in range(sum(sample_sub_coachs['id_race'] == race))])\n",
    "                                       for race in sample_sub_coachs['id_race'].unique()]) + 1\n",
    "sample_sub_coachs = sample_sub_coachs[sample_sub_coachs['id'].isin(id_test)]\n",
    "sample_sub_coachs = sample_sub_coachs.sort_values('id')"
   ]
  },
  {
   "cell_type": "code",
   "execution_count": 50,
   "metadata": {
    "collapsed": true
   },
   "outputs": [],
   "source": [
    "sample_sub_coachs.to_csv('submission_coach.csv', index=False)"
   ]
  },
  {
   "cell_type": "code",
   "execution_count": 52,
   "metadata": {
    "scrolled": true
   },
   "outputs": [
    {
     "data": {
      "text/html": [
       "<div>\n",
       "<style scoped>\n",
       "    .dataframe tbody tr th:only-of-type {\n",
       "        vertical-align: middle;\n",
       "    }\n",
       "\n",
       "    .dataframe tbody tr th {\n",
       "        vertical-align: top;\n",
       "    }\n",
       "\n",
       "    .dataframe thead th {\n",
       "        text-align: right;\n",
       "    }\n",
       "</style>\n",
       "<table border=\"1\" class=\"dataframe\">\n",
       "  <thead>\n",
       "    <tr style=\"text-align: right;\">\n",
       "      <th></th>\n",
       "      <th>id</th>\n",
       "      <th>id_race</th>\n",
       "      <th>rang</th>\n",
       "      <th>temps</th>\n",
       "    </tr>\n",
       "  </thead>\n",
       "  <tbody>\n",
       "    <tr>\n",
       "      <th>39</th>\n",
       "      <td>cc4034180fc002ca57d4757afc22f381</td>\n",
       "      <td>R14</td>\n",
       "      <td>6</td>\n",
       "      <td>2997.3</td>\n",
       "    </tr>\n",
       "    <tr>\n",
       "      <th>22</th>\n",
       "      <td>a1ef51fa0751dde641097e1ad575f1a4</td>\n",
       "      <td>R14</td>\n",
       "      <td>7</td>\n",
       "      <td>3010.2</td>\n",
       "    </tr>\n",
       "    <tr>\n",
       "      <th>29</th>\n",
       "      <td>b3b78af95bdc87d71e1663996cd413e1</td>\n",
       "      <td>R14</td>\n",
       "      <td>8</td>\n",
       "      <td>3016.5</td>\n",
       "    </tr>\n",
       "    <tr>\n",
       "      <th>12</th>\n",
       "      <td>792fa9746362cfd6606965d34755b4bb</td>\n",
       "      <td>R14</td>\n",
       "      <td>9</td>\n",
       "      <td>3016.5</td>\n",
       "    </tr>\n",
       "    <tr>\n",
       "      <th>17</th>\n",
       "      <td>8e32c44353546e4c4fa1f458fde2f4db</td>\n",
       "      <td>R14</td>\n",
       "      <td>10</td>\n",
       "      <td>3040.8</td>\n",
       "    </tr>\n",
       "    <tr>\n",
       "      <th>45</th>\n",
       "      <td>ec8f6f46af46422a073c18172faac1f3</td>\n",
       "      <td>R14</td>\n",
       "      <td>13</td>\n",
       "      <td>3080.1</td>\n",
       "    </tr>\n",
       "    <tr>\n",
       "      <th>1</th>\n",
       "      <td>24b82fc1c2dc8472ee36e433e18969cf</td>\n",
       "      <td>R14</td>\n",
       "      <td>15</td>\n",
       "      <td>3132.3</td>\n",
       "    </tr>\n",
       "    <tr>\n",
       "      <th>51</th>\n",
       "      <td>f9c26abc97078924371c9bf060ffac41</td>\n",
       "      <td>R14</td>\n",
       "      <td>16</td>\n",
       "      <td>3135.3</td>\n",
       "    </tr>\n",
       "    <tr>\n",
       "      <th>4</th>\n",
       "      <td>33ce538fcd2d3b5e2afb9aacdb9432fb</td>\n",
       "      <td>R14</td>\n",
       "      <td>17</td>\n",
       "      <td>3136.5</td>\n",
       "    </tr>\n",
       "    <tr>\n",
       "      <th>47</th>\n",
       "      <td>f36b3ffbedb51186f63be96ca1d710c6</td>\n",
       "      <td>R14</td>\n",
       "      <td>20</td>\n",
       "      <td>3143.7</td>\n",
       "    </tr>\n",
       "    <tr>\n",
       "      <th>49</th>\n",
       "      <td>f85bee7e8bd8816f519668d515c90c87</td>\n",
       "      <td>R14</td>\n",
       "      <td>22</td>\n",
       "      <td>3151.2</td>\n",
       "    </tr>\n",
       "    <tr>\n",
       "      <th>50</th>\n",
       "      <td>f94c94c254360f7511b40697ab42fbff</td>\n",
       "      <td>R14</td>\n",
       "      <td>23</td>\n",
       "      <td>3158.4</td>\n",
       "    </tr>\n",
       "    <tr>\n",
       "      <th>13</th>\n",
       "      <td>7b2fc4acc98145a0baca45c2da1854c2</td>\n",
       "      <td>R14</td>\n",
       "      <td>25</td>\n",
       "      <td>3168.6</td>\n",
       "    </tr>\n",
       "    <tr>\n",
       "      <th>42</th>\n",
       "      <td>dd0e2e0af8f363b4c9651c3c17a528ca</td>\n",
       "      <td>R14</td>\n",
       "      <td>26</td>\n",
       "      <td>3169.5</td>\n",
       "    </tr>\n",
       "    <tr>\n",
       "      <th>18</th>\n",
       "      <td>8ed408f99bc70ef8678310eccabc03d0</td>\n",
       "      <td>R14</td>\n",
       "      <td>29</td>\n",
       "      <td>3174.9</td>\n",
       "    </tr>\n",
       "    <tr>\n",
       "      <th>0</th>\n",
       "      <td>126a480787b438d6fec76c1995e0259f</td>\n",
       "      <td>R14</td>\n",
       "      <td>30</td>\n",
       "      <td>3175.2</td>\n",
       "    </tr>\n",
       "    <tr>\n",
       "      <th>44</th>\n",
       "      <td>eadd23e454081858ba27864e5951594e</td>\n",
       "      <td>R14</td>\n",
       "      <td>34</td>\n",
       "      <td>3193.2</td>\n",
       "    </tr>\n",
       "    <tr>\n",
       "      <th>25</th>\n",
       "      <td>ac49ceb20de4c240b2b53994114b9de5</td>\n",
       "      <td>R14</td>\n",
       "      <td>41</td>\n",
       "      <td>3323.4</td>\n",
       "    </tr>\n",
       "    <tr>\n",
       "      <th>46</th>\n",
       "      <td>f25362cd267edd22d4c13ec88a80ad85</td>\n",
       "      <td>R14</td>\n",
       "      <td>42</td>\n",
       "      <td>3390.9</td>\n",
       "    </tr>\n",
       "    <tr>\n",
       "      <th>5</th>\n",
       "      <td>3455ba8e7f5f11c186da2d25dee6f267</td>\n",
       "      <td>R14</td>\n",
       "      <td>43</td>\n",
       "      <td>3407.4</td>\n",
       "    </tr>\n",
       "    <tr>\n",
       "      <th>24</th>\n",
       "      <td>a91663360210eb9df837803414569c87</td>\n",
       "      <td>R14</td>\n",
       "      <td>44</td>\n",
       "      <td>3420.0</td>\n",
       "    </tr>\n",
       "    <tr>\n",
       "      <th>9</th>\n",
       "      <td>63a830b281f6ec54f7b7de65fd0ae55a</td>\n",
       "      <td>R14</td>\n",
       "      <td>45</td>\n",
       "      <td>3693.3</td>\n",
       "    </tr>\n",
       "    <tr>\n",
       "      <th>38</th>\n",
       "      <td>c81ee569df42a879871c1a570321ebc1</td>\n",
       "      <td>R22</td>\n",
       "      <td>4</td>\n",
       "      <td>3050.7</td>\n",
       "    </tr>\n",
       "    <tr>\n",
       "      <th>3</th>\n",
       "      <td>3159ca229773359fff7dae2c64bf78f4</td>\n",
       "      <td>R22</td>\n",
       "      <td>5</td>\n",
       "      <td>3054.6</td>\n",
       "    </tr>\n",
       "    <tr>\n",
       "      <th>41</th>\n",
       "      <td>d8911199df5d845162afb034d93d2da9</td>\n",
       "      <td>R22</td>\n",
       "      <td>6</td>\n",
       "      <td>3057.3</td>\n",
       "    </tr>\n",
       "    <tr>\n",
       "      <th>11</th>\n",
       "      <td>65621eba6af46caa234e2fa947d21ac4</td>\n",
       "      <td>R22</td>\n",
       "      <td>8</td>\n",
       "      <td>3601.5</td>\n",
       "    </tr>\n",
       "    <tr>\n",
       "      <th>19</th>\n",
       "      <td>95c684feb5de62dda27e3cf4b65258b4</td>\n",
       "      <td>R5</td>\n",
       "      <td>3</td>\n",
       "      <td>3113.7</td>\n",
       "    </tr>\n",
       "    <tr>\n",
       "      <th>36</th>\n",
       "      <td>c4e5ef68a0a2c179093c97447af04b6f</td>\n",
       "      <td>R5</td>\n",
       "      <td>5</td>\n",
       "      <td>3159.9</td>\n",
       "    </tr>\n",
       "    <tr>\n",
       "      <th>6</th>\n",
       "      <td>3c5e69a30c86448652df0cafb8b37db1</td>\n",
       "      <td>R5</td>\n",
       "      <td>8</td>\n",
       "      <td>3225.3</td>\n",
       "    </tr>\n",
       "    <tr>\n",
       "      <th>8</th>\n",
       "      <td>4631640fcc807dd69f2451349f6d914c</td>\n",
       "      <td>R5</td>\n",
       "      <td>9</td>\n",
       "      <td>3237.0</td>\n",
       "    </tr>\n",
       "    <tr>\n",
       "      <th>10</th>\n",
       "      <td>64875c2d8ee67fffe0bc111897ba6b56</td>\n",
       "      <td>R5</td>\n",
       "      <td>11</td>\n",
       "      <td>3254.1</td>\n",
       "    </tr>\n",
       "    <tr>\n",
       "      <th>14</th>\n",
       "      <td>7d0eaaa31308bc6424350ce2fd803b50</td>\n",
       "      <td>R5</td>\n",
       "      <td>12</td>\n",
       "      <td>3266.1</td>\n",
       "    </tr>\n",
       "    <tr>\n",
       "      <th>16</th>\n",
       "      <td>8a0f09397f5081d9a24a288f357eadfd</td>\n",
       "      <td>R5</td>\n",
       "      <td>14</td>\n",
       "      <td>3270.6</td>\n",
       "    </tr>\n",
       "    <tr>\n",
       "      <th>37</th>\n",
       "      <td>c66f62fcb07c36fcee93f91fb9ba8059</td>\n",
       "      <td>R5</td>\n",
       "      <td>18</td>\n",
       "      <td>3303.9</td>\n",
       "    </tr>\n",
       "    <tr>\n",
       "      <th>2</th>\n",
       "      <td>30e51809ac37d21f30126386f9c3aef4</td>\n",
       "      <td>R5</td>\n",
       "      <td>19</td>\n",
       "      <td>3329.1</td>\n",
       "    </tr>\n",
       "    <tr>\n",
       "      <th>27</th>\n",
       "      <td>b05310c076036ac3080092ad8c1a141e</td>\n",
       "      <td>R5</td>\n",
       "      <td>23</td>\n",
       "      <td>3376.2</td>\n",
       "    </tr>\n",
       "    <tr>\n",
       "      <th>40</th>\n",
       "      <td>d1bd39d7ba23df3d141955aae8a7e772</td>\n",
       "      <td>R5</td>\n",
       "      <td>25</td>\n",
       "      <td>3500.4</td>\n",
       "    </tr>\n",
       "    <tr>\n",
       "      <th>33</th>\n",
       "      <td>bea9342ca378b9ece615bc976ec00ccd</td>\n",
       "      <td>R5</td>\n",
       "      <td>26</td>\n",
       "      <td>3518.7</td>\n",
       "    </tr>\n",
       "    <tr>\n",
       "      <th>34</th>\n",
       "      <td>c12a357501fe3f3941ce54b621077e94</td>\n",
       "      <td>R5</td>\n",
       "      <td>27</td>\n",
       "      <td>3693.3</td>\n",
       "    </tr>\n",
       "    <tr>\n",
       "      <th>15</th>\n",
       "      <td>84ff8acb5cb95806886a0dd7c9f37721</td>\n",
       "      <td>R6</td>\n",
       "      <td>1</td>\n",
       "      <td>3276.6</td>\n",
       "    </tr>\n",
       "    <tr>\n",
       "      <th>28</th>\n",
       "      <td>b132ca4a0d72d8322943e8b424d61628</td>\n",
       "      <td>R6</td>\n",
       "      <td>3</td>\n",
       "      <td>3336.0</td>\n",
       "    </tr>\n",
       "    <tr>\n",
       "      <th>32</th>\n",
       "      <td>b985e144ff4bba50547615446044ad2c</td>\n",
       "      <td>R6</td>\n",
       "      <td>4</td>\n",
       "      <td>3337.5</td>\n",
       "    </tr>\n",
       "    <tr>\n",
       "      <th>21</th>\n",
       "      <td>9f6b595670eb54459cd5dccbe4fd1d25</td>\n",
       "      <td>R6</td>\n",
       "      <td>6</td>\n",
       "      <td>3374.1</td>\n",
       "    </tr>\n",
       "    <tr>\n",
       "      <th>35</th>\n",
       "      <td>c2469094b31099bab973548f071ed5c5</td>\n",
       "      <td>R6</td>\n",
       "      <td>7</td>\n",
       "      <td>3380.4</td>\n",
       "    </tr>\n",
       "    <tr>\n",
       "      <th>43</th>\n",
       "      <td>e1a340458d0099a52c22a3b01bde97e8</td>\n",
       "      <td>R6</td>\n",
       "      <td>11</td>\n",
       "      <td>3420.3</td>\n",
       "    </tr>\n",
       "    <tr>\n",
       "      <th>26</th>\n",
       "      <td>aecf6a2b13ee229aeb58bad45ff579e3</td>\n",
       "      <td>R6</td>\n",
       "      <td>12</td>\n",
       "      <td>3436.2</td>\n",
       "    </tr>\n",
       "    <tr>\n",
       "      <th>31</th>\n",
       "      <td>b579a690487f5f2c2fe04cc645627e3c</td>\n",
       "      <td>R6</td>\n",
       "      <td>14</td>\n",
       "      <td>3455.4</td>\n",
       "    </tr>\n",
       "    <tr>\n",
       "      <th>20</th>\n",
       "      <td>98db09449f0bb1dc6203f09e731a37e6</td>\n",
       "      <td>R6</td>\n",
       "      <td>15</td>\n",
       "      <td>3457.8</td>\n",
       "    </tr>\n",
       "    <tr>\n",
       "      <th>48</th>\n",
       "      <td>f6c8431b896e7844c70e57ff07f075df</td>\n",
       "      <td>R6</td>\n",
       "      <td>16</td>\n",
       "      <td>3457.8</td>\n",
       "    </tr>\n",
       "    <tr>\n",
       "      <th>30</th>\n",
       "      <td>b568c2021eecdfb087b5ada62f24ae5a</td>\n",
       "      <td>R6</td>\n",
       "      <td>17</td>\n",
       "      <td>3465.0</td>\n",
       "    </tr>\n",
       "    <tr>\n",
       "      <th>23</th>\n",
       "      <td>a1ef804544a763145db5fc13f320c366</td>\n",
       "      <td>R6</td>\n",
       "      <td>21</td>\n",
       "      <td>3478.8</td>\n",
       "    </tr>\n",
       "    <tr>\n",
       "      <th>7</th>\n",
       "      <td>3c94397fe1a36cc9dd149a7b9546869b</td>\n",
       "      <td>R6</td>\n",
       "      <td>27</td>\n",
       "      <td>3582.9</td>\n",
       "    </tr>\n",
       "  </tbody>\n",
       "</table>\n",
       "</div>"
      ],
      "text/plain": [
       "                                  id id_race  rang   temps\n",
       "39  cc4034180fc002ca57d4757afc22f381     R14     6  2997.3\n",
       "22  a1ef51fa0751dde641097e1ad575f1a4     R14     7  3010.2\n",
       "29  b3b78af95bdc87d71e1663996cd413e1     R14     8  3016.5\n",
       "12  792fa9746362cfd6606965d34755b4bb     R14     9  3016.5\n",
       "17  8e32c44353546e4c4fa1f458fde2f4db     R14    10  3040.8\n",
       "45  ec8f6f46af46422a073c18172faac1f3     R14    13  3080.1\n",
       "1   24b82fc1c2dc8472ee36e433e18969cf     R14    15  3132.3\n",
       "51  f9c26abc97078924371c9bf060ffac41     R14    16  3135.3\n",
       "4   33ce538fcd2d3b5e2afb9aacdb9432fb     R14    17  3136.5\n",
       "47  f36b3ffbedb51186f63be96ca1d710c6     R14    20  3143.7\n",
       "49  f85bee7e8bd8816f519668d515c90c87     R14    22  3151.2\n",
       "50  f94c94c254360f7511b40697ab42fbff     R14    23  3158.4\n",
       "13  7b2fc4acc98145a0baca45c2da1854c2     R14    25  3168.6\n",
       "42  dd0e2e0af8f363b4c9651c3c17a528ca     R14    26  3169.5\n",
       "18  8ed408f99bc70ef8678310eccabc03d0     R14    29  3174.9\n",
       "0   126a480787b438d6fec76c1995e0259f     R14    30  3175.2\n",
       "44  eadd23e454081858ba27864e5951594e     R14    34  3193.2\n",
       "25  ac49ceb20de4c240b2b53994114b9de5     R14    41  3323.4\n",
       "46  f25362cd267edd22d4c13ec88a80ad85     R14    42  3390.9\n",
       "5   3455ba8e7f5f11c186da2d25dee6f267     R14    43  3407.4\n",
       "24  a91663360210eb9df837803414569c87     R14    44  3420.0\n",
       "9   63a830b281f6ec54f7b7de65fd0ae55a     R14    45  3693.3\n",
       "38  c81ee569df42a879871c1a570321ebc1     R22     4  3050.7\n",
       "3   3159ca229773359fff7dae2c64bf78f4     R22     5  3054.6\n",
       "41  d8911199df5d845162afb034d93d2da9     R22     6  3057.3\n",
       "11  65621eba6af46caa234e2fa947d21ac4     R22     8  3601.5\n",
       "19  95c684feb5de62dda27e3cf4b65258b4      R5     3  3113.7\n",
       "36  c4e5ef68a0a2c179093c97447af04b6f      R5     5  3159.9\n",
       "6   3c5e69a30c86448652df0cafb8b37db1      R5     8  3225.3\n",
       "8   4631640fcc807dd69f2451349f6d914c      R5     9  3237.0\n",
       "10  64875c2d8ee67fffe0bc111897ba6b56      R5    11  3254.1\n",
       "14  7d0eaaa31308bc6424350ce2fd803b50      R5    12  3266.1\n",
       "16  8a0f09397f5081d9a24a288f357eadfd      R5    14  3270.6\n",
       "37  c66f62fcb07c36fcee93f91fb9ba8059      R5    18  3303.9\n",
       "2   30e51809ac37d21f30126386f9c3aef4      R5    19  3329.1\n",
       "27  b05310c076036ac3080092ad8c1a141e      R5    23  3376.2\n",
       "40  d1bd39d7ba23df3d141955aae8a7e772      R5    25  3500.4\n",
       "33  bea9342ca378b9ece615bc976ec00ccd      R5    26  3518.7\n",
       "34  c12a357501fe3f3941ce54b621077e94      R5    27  3693.3\n",
       "15  84ff8acb5cb95806886a0dd7c9f37721      R6     1  3276.6\n",
       "28  b132ca4a0d72d8322943e8b424d61628      R6     3  3336.0\n",
       "32  b985e144ff4bba50547615446044ad2c      R6     4  3337.5\n",
       "21  9f6b595670eb54459cd5dccbe4fd1d25      R6     6  3374.1\n",
       "35  c2469094b31099bab973548f071ed5c5      R6     7  3380.4\n",
       "43  e1a340458d0099a52c22a3b01bde97e8      R6    11  3420.3\n",
       "26  aecf6a2b13ee229aeb58bad45ff579e3      R6    12  3436.2\n",
       "31  b579a690487f5f2c2fe04cc645627e3c      R6    14  3455.4\n",
       "20  98db09449f0bb1dc6203f09e731a37e6      R6    15  3457.8\n",
       "48  f6c8431b896e7844c70e57ff07f075df      R6    16  3457.8\n",
       "30  b568c2021eecdfb087b5ada62f24ae5a      R6    17  3465.0\n",
       "23  a1ef804544a763145db5fc13f320c366      R6    21  3478.8\n",
       "7   3c94397fe1a36cc9dd149a7b9546869b      R6    27  3582.9"
      ]
     },
     "execution_count": 52,
     "metadata": {},
     "output_type": "execute_result"
    }
   ],
   "source": [
    "sample_sub_coachs.sort_values(['id_race', 'rang'])"
   ]
  },
  {
   "cell_type": "code",
   "execution_count": 54,
   "metadata": {
    "scrolled": true
   },
   "outputs": [
    {
     "data": {
      "text/html": [
       "<div>\n",
       "<style scoped>\n",
       "    .dataframe tbody tr th:only-of-type {\n",
       "        vertical-align: middle;\n",
       "    }\n",
       "\n",
       "    .dataframe tbody tr th {\n",
       "        vertical-align: top;\n",
       "    }\n",
       "\n",
       "    .dataframe thead th {\n",
       "        text-align: right;\n",
       "    }\n",
       "</style>\n",
       "<table border=\"1\" class=\"dataframe\">\n",
       "  <thead>\n",
       "    <tr style=\"text-align: right;\">\n",
       "      <th></th>\n",
       "      <th>id</th>\n",
       "      <th>id_race</th>\n",
       "      <th>rang</th>\n",
       "      <th>temps</th>\n",
       "    </tr>\n",
       "  </thead>\n",
       "  <tbody>\n",
       "    <tr>\n",
       "      <th>0</th>\n",
       "      <td>126a480787b438d6fec76c1995e0259f</td>\n",
       "      <td>R14</td>\n",
       "      <td>30</td>\n",
       "      <td>3175.2</td>\n",
       "    </tr>\n",
       "    <tr>\n",
       "      <th>1</th>\n",
       "      <td>24b82fc1c2dc8472ee36e433e18969cf</td>\n",
       "      <td>R14</td>\n",
       "      <td>15</td>\n",
       "      <td>3132.3</td>\n",
       "    </tr>\n",
       "    <tr>\n",
       "      <th>2</th>\n",
       "      <td>30e51809ac37d21f30126386f9c3aef4</td>\n",
       "      <td>R5</td>\n",
       "      <td>19</td>\n",
       "      <td>3329.1</td>\n",
       "    </tr>\n",
       "    <tr>\n",
       "      <th>3</th>\n",
       "      <td>3159ca229773359fff7dae2c64bf78f4</td>\n",
       "      <td>R22</td>\n",
       "      <td>5</td>\n",
       "      <td>3054.6</td>\n",
       "    </tr>\n",
       "    <tr>\n",
       "      <th>4</th>\n",
       "      <td>33ce538fcd2d3b5e2afb9aacdb9432fb</td>\n",
       "      <td>R14</td>\n",
       "      <td>17</td>\n",
       "      <td>3136.5</td>\n",
       "    </tr>\n",
       "    <tr>\n",
       "      <th>5</th>\n",
       "      <td>3455ba8e7f5f11c186da2d25dee6f267</td>\n",
       "      <td>R14</td>\n",
       "      <td>43</td>\n",
       "      <td>3407.4</td>\n",
       "    </tr>\n",
       "    <tr>\n",
       "      <th>6</th>\n",
       "      <td>3c5e69a30c86448652df0cafb8b37db1</td>\n",
       "      <td>R5</td>\n",
       "      <td>8</td>\n",
       "      <td>3225.3</td>\n",
       "    </tr>\n",
       "    <tr>\n",
       "      <th>7</th>\n",
       "      <td>3c94397fe1a36cc9dd149a7b9546869b</td>\n",
       "      <td>R6</td>\n",
       "      <td>27</td>\n",
       "      <td>3582.9</td>\n",
       "    </tr>\n",
       "    <tr>\n",
       "      <th>8</th>\n",
       "      <td>4631640fcc807dd69f2451349f6d914c</td>\n",
       "      <td>R5</td>\n",
       "      <td>9</td>\n",
       "      <td>3237.0</td>\n",
       "    </tr>\n",
       "    <tr>\n",
       "      <th>9</th>\n",
       "      <td>63a830b281f6ec54f7b7de65fd0ae55a</td>\n",
       "      <td>R14</td>\n",
       "      <td>45</td>\n",
       "      <td>3693.3</td>\n",
       "    </tr>\n",
       "    <tr>\n",
       "      <th>10</th>\n",
       "      <td>64875c2d8ee67fffe0bc111897ba6b56</td>\n",
       "      <td>R5</td>\n",
       "      <td>11</td>\n",
       "      <td>3254.1</td>\n",
       "    </tr>\n",
       "    <tr>\n",
       "      <th>11</th>\n",
       "      <td>65621eba6af46caa234e2fa947d21ac4</td>\n",
       "      <td>R22</td>\n",
       "      <td>8</td>\n",
       "      <td>3601.5</td>\n",
       "    </tr>\n",
       "    <tr>\n",
       "      <th>12</th>\n",
       "      <td>792fa9746362cfd6606965d34755b4bb</td>\n",
       "      <td>R14</td>\n",
       "      <td>9</td>\n",
       "      <td>3016.5</td>\n",
       "    </tr>\n",
       "    <tr>\n",
       "      <th>13</th>\n",
       "      <td>7b2fc4acc98145a0baca45c2da1854c2</td>\n",
       "      <td>R14</td>\n",
       "      <td>25</td>\n",
       "      <td>3168.6</td>\n",
       "    </tr>\n",
       "    <tr>\n",
       "      <th>14</th>\n",
       "      <td>7d0eaaa31308bc6424350ce2fd803b50</td>\n",
       "      <td>R5</td>\n",
       "      <td>12</td>\n",
       "      <td>3266.1</td>\n",
       "    </tr>\n",
       "    <tr>\n",
       "      <th>15</th>\n",
       "      <td>84ff8acb5cb95806886a0dd7c9f37721</td>\n",
       "      <td>R6</td>\n",
       "      <td>1</td>\n",
       "      <td>3276.6</td>\n",
       "    </tr>\n",
       "    <tr>\n",
       "      <th>16</th>\n",
       "      <td>8a0f09397f5081d9a24a288f357eadfd</td>\n",
       "      <td>R5</td>\n",
       "      <td>14</td>\n",
       "      <td>3270.6</td>\n",
       "    </tr>\n",
       "    <tr>\n",
       "      <th>17</th>\n",
       "      <td>8e32c44353546e4c4fa1f458fde2f4db</td>\n",
       "      <td>R14</td>\n",
       "      <td>10</td>\n",
       "      <td>3040.8</td>\n",
       "    </tr>\n",
       "    <tr>\n",
       "      <th>18</th>\n",
       "      <td>8ed408f99bc70ef8678310eccabc03d0</td>\n",
       "      <td>R14</td>\n",
       "      <td>29</td>\n",
       "      <td>3174.9</td>\n",
       "    </tr>\n",
       "    <tr>\n",
       "      <th>19</th>\n",
       "      <td>95c684feb5de62dda27e3cf4b65258b4</td>\n",
       "      <td>R5</td>\n",
       "      <td>3</td>\n",
       "      <td>3113.7</td>\n",
       "    </tr>\n",
       "    <tr>\n",
       "      <th>20</th>\n",
       "      <td>98db09449f0bb1dc6203f09e731a37e6</td>\n",
       "      <td>R6</td>\n",
       "      <td>15</td>\n",
       "      <td>3457.8</td>\n",
       "    </tr>\n",
       "    <tr>\n",
       "      <th>21</th>\n",
       "      <td>9f6b595670eb54459cd5dccbe4fd1d25</td>\n",
       "      <td>R6</td>\n",
       "      <td>6</td>\n",
       "      <td>3374.1</td>\n",
       "    </tr>\n",
       "    <tr>\n",
       "      <th>22</th>\n",
       "      <td>a1ef51fa0751dde641097e1ad575f1a4</td>\n",
       "      <td>R14</td>\n",
       "      <td>7</td>\n",
       "      <td>3010.2</td>\n",
       "    </tr>\n",
       "    <tr>\n",
       "      <th>23</th>\n",
       "      <td>a1ef804544a763145db5fc13f320c366</td>\n",
       "      <td>R6</td>\n",
       "      <td>21</td>\n",
       "      <td>3478.8</td>\n",
       "    </tr>\n",
       "    <tr>\n",
       "      <th>24</th>\n",
       "      <td>a91663360210eb9df837803414569c87</td>\n",
       "      <td>R14</td>\n",
       "      <td>44</td>\n",
       "      <td>3420.0</td>\n",
       "    </tr>\n",
       "    <tr>\n",
       "      <th>25</th>\n",
       "      <td>ac49ceb20de4c240b2b53994114b9de5</td>\n",
       "      <td>R14</td>\n",
       "      <td>41</td>\n",
       "      <td>3323.4</td>\n",
       "    </tr>\n",
       "    <tr>\n",
       "      <th>26</th>\n",
       "      <td>aecf6a2b13ee229aeb58bad45ff579e3</td>\n",
       "      <td>R6</td>\n",
       "      <td>12</td>\n",
       "      <td>3436.2</td>\n",
       "    </tr>\n",
       "    <tr>\n",
       "      <th>27</th>\n",
       "      <td>b05310c076036ac3080092ad8c1a141e</td>\n",
       "      <td>R5</td>\n",
       "      <td>23</td>\n",
       "      <td>3376.2</td>\n",
       "    </tr>\n",
       "    <tr>\n",
       "      <th>28</th>\n",
       "      <td>b132ca4a0d72d8322943e8b424d61628</td>\n",
       "      <td>R6</td>\n",
       "      <td>3</td>\n",
       "      <td>3336.0</td>\n",
       "    </tr>\n",
       "    <tr>\n",
       "      <th>29</th>\n",
       "      <td>b3b78af95bdc87d71e1663996cd413e1</td>\n",
       "      <td>R14</td>\n",
       "      <td>8</td>\n",
       "      <td>3016.5</td>\n",
       "    </tr>\n",
       "    <tr>\n",
       "      <th>30</th>\n",
       "      <td>b568c2021eecdfb087b5ada62f24ae5a</td>\n",
       "      <td>R6</td>\n",
       "      <td>17</td>\n",
       "      <td>3465.0</td>\n",
       "    </tr>\n",
       "    <tr>\n",
       "      <th>31</th>\n",
       "      <td>b579a690487f5f2c2fe04cc645627e3c</td>\n",
       "      <td>R6</td>\n",
       "      <td>14</td>\n",
       "      <td>3455.4</td>\n",
       "    </tr>\n",
       "    <tr>\n",
       "      <th>32</th>\n",
       "      <td>b985e144ff4bba50547615446044ad2c</td>\n",
       "      <td>R6</td>\n",
       "      <td>4</td>\n",
       "      <td>3337.5</td>\n",
       "    </tr>\n",
       "    <tr>\n",
       "      <th>33</th>\n",
       "      <td>bea9342ca378b9ece615bc976ec00ccd</td>\n",
       "      <td>R5</td>\n",
       "      <td>26</td>\n",
       "      <td>3518.7</td>\n",
       "    </tr>\n",
       "    <tr>\n",
       "      <th>34</th>\n",
       "      <td>c12a357501fe3f3941ce54b621077e94</td>\n",
       "      <td>R5</td>\n",
       "      <td>27</td>\n",
       "      <td>3693.3</td>\n",
       "    </tr>\n",
       "    <tr>\n",
       "      <th>35</th>\n",
       "      <td>c2469094b31099bab973548f071ed5c5</td>\n",
       "      <td>R6</td>\n",
       "      <td>7</td>\n",
       "      <td>3380.4</td>\n",
       "    </tr>\n",
       "    <tr>\n",
       "      <th>36</th>\n",
       "      <td>c4e5ef68a0a2c179093c97447af04b6f</td>\n",
       "      <td>R5</td>\n",
       "      <td>5</td>\n",
       "      <td>3159.9</td>\n",
       "    </tr>\n",
       "    <tr>\n",
       "      <th>37</th>\n",
       "      <td>c66f62fcb07c36fcee93f91fb9ba8059</td>\n",
       "      <td>R5</td>\n",
       "      <td>18</td>\n",
       "      <td>3303.9</td>\n",
       "    </tr>\n",
       "    <tr>\n",
       "      <th>38</th>\n",
       "      <td>c81ee569df42a879871c1a570321ebc1</td>\n",
       "      <td>R22</td>\n",
       "      <td>4</td>\n",
       "      <td>3050.7</td>\n",
       "    </tr>\n",
       "    <tr>\n",
       "      <th>39</th>\n",
       "      <td>cc4034180fc002ca57d4757afc22f381</td>\n",
       "      <td>R14</td>\n",
       "      <td>6</td>\n",
       "      <td>2997.3</td>\n",
       "    </tr>\n",
       "    <tr>\n",
       "      <th>40</th>\n",
       "      <td>d1bd39d7ba23df3d141955aae8a7e772</td>\n",
       "      <td>R5</td>\n",
       "      <td>25</td>\n",
       "      <td>3500.4</td>\n",
       "    </tr>\n",
       "    <tr>\n",
       "      <th>41</th>\n",
       "      <td>d8911199df5d845162afb034d93d2da9</td>\n",
       "      <td>R22</td>\n",
       "      <td>6</td>\n",
       "      <td>3057.3</td>\n",
       "    </tr>\n",
       "    <tr>\n",
       "      <th>42</th>\n",
       "      <td>dd0e2e0af8f363b4c9651c3c17a528ca</td>\n",
       "      <td>R14</td>\n",
       "      <td>26</td>\n",
       "      <td>3169.5</td>\n",
       "    </tr>\n",
       "    <tr>\n",
       "      <th>43</th>\n",
       "      <td>e1a340458d0099a52c22a3b01bde97e8</td>\n",
       "      <td>R6</td>\n",
       "      <td>11</td>\n",
       "      <td>3420.3</td>\n",
       "    </tr>\n",
       "    <tr>\n",
       "      <th>44</th>\n",
       "      <td>eadd23e454081858ba27864e5951594e</td>\n",
       "      <td>R14</td>\n",
       "      <td>34</td>\n",
       "      <td>3193.2</td>\n",
       "    </tr>\n",
       "    <tr>\n",
       "      <th>45</th>\n",
       "      <td>ec8f6f46af46422a073c18172faac1f3</td>\n",
       "      <td>R14</td>\n",
       "      <td>13</td>\n",
       "      <td>3080.1</td>\n",
       "    </tr>\n",
       "    <tr>\n",
       "      <th>46</th>\n",
       "      <td>f25362cd267edd22d4c13ec88a80ad85</td>\n",
       "      <td>R14</td>\n",
       "      <td>42</td>\n",
       "      <td>3390.9</td>\n",
       "    </tr>\n",
       "    <tr>\n",
       "      <th>47</th>\n",
       "      <td>f36b3ffbedb51186f63be96ca1d710c6</td>\n",
       "      <td>R14</td>\n",
       "      <td>20</td>\n",
       "      <td>3143.7</td>\n",
       "    </tr>\n",
       "    <tr>\n",
       "      <th>48</th>\n",
       "      <td>f6c8431b896e7844c70e57ff07f075df</td>\n",
       "      <td>R6</td>\n",
       "      <td>16</td>\n",
       "      <td>3457.8</td>\n",
       "    </tr>\n",
       "    <tr>\n",
       "      <th>49</th>\n",
       "      <td>f85bee7e8bd8816f519668d515c90c87</td>\n",
       "      <td>R14</td>\n",
       "      <td>22</td>\n",
       "      <td>3151.2</td>\n",
       "    </tr>\n",
       "    <tr>\n",
       "      <th>50</th>\n",
       "      <td>f94c94c254360f7511b40697ab42fbff</td>\n",
       "      <td>R14</td>\n",
       "      <td>23</td>\n",
       "      <td>3158.4</td>\n",
       "    </tr>\n",
       "    <tr>\n",
       "      <th>51</th>\n",
       "      <td>f9c26abc97078924371c9bf060ffac41</td>\n",
       "      <td>R14</td>\n",
       "      <td>16</td>\n",
       "      <td>3135.3</td>\n",
       "    </tr>\n",
       "  </tbody>\n",
       "</table>\n",
       "</div>"
      ],
      "text/plain": [
       "                                  id id_race  rang   temps\n",
       "0   126a480787b438d6fec76c1995e0259f     R14    30  3175.2\n",
       "1   24b82fc1c2dc8472ee36e433e18969cf     R14    15  3132.3\n",
       "2   30e51809ac37d21f30126386f9c3aef4      R5    19  3329.1\n",
       "3   3159ca229773359fff7dae2c64bf78f4     R22     5  3054.6\n",
       "4   33ce538fcd2d3b5e2afb9aacdb9432fb     R14    17  3136.5\n",
       "5   3455ba8e7f5f11c186da2d25dee6f267     R14    43  3407.4\n",
       "6   3c5e69a30c86448652df0cafb8b37db1      R5     8  3225.3\n",
       "7   3c94397fe1a36cc9dd149a7b9546869b      R6    27  3582.9\n",
       "8   4631640fcc807dd69f2451349f6d914c      R5     9  3237.0\n",
       "9   63a830b281f6ec54f7b7de65fd0ae55a     R14    45  3693.3\n",
       "10  64875c2d8ee67fffe0bc111897ba6b56      R5    11  3254.1\n",
       "11  65621eba6af46caa234e2fa947d21ac4     R22     8  3601.5\n",
       "12  792fa9746362cfd6606965d34755b4bb     R14     9  3016.5\n",
       "13  7b2fc4acc98145a0baca45c2da1854c2     R14    25  3168.6\n",
       "14  7d0eaaa31308bc6424350ce2fd803b50      R5    12  3266.1\n",
       "15  84ff8acb5cb95806886a0dd7c9f37721      R6     1  3276.6\n",
       "16  8a0f09397f5081d9a24a288f357eadfd      R5    14  3270.6\n",
       "17  8e32c44353546e4c4fa1f458fde2f4db     R14    10  3040.8\n",
       "18  8ed408f99bc70ef8678310eccabc03d0     R14    29  3174.9\n",
       "19  95c684feb5de62dda27e3cf4b65258b4      R5     3  3113.7\n",
       "20  98db09449f0bb1dc6203f09e731a37e6      R6    15  3457.8\n",
       "21  9f6b595670eb54459cd5dccbe4fd1d25      R6     6  3374.1\n",
       "22  a1ef51fa0751dde641097e1ad575f1a4     R14     7  3010.2\n",
       "23  a1ef804544a763145db5fc13f320c366      R6    21  3478.8\n",
       "24  a91663360210eb9df837803414569c87     R14    44  3420.0\n",
       "25  ac49ceb20de4c240b2b53994114b9de5     R14    41  3323.4\n",
       "26  aecf6a2b13ee229aeb58bad45ff579e3      R6    12  3436.2\n",
       "27  b05310c076036ac3080092ad8c1a141e      R5    23  3376.2\n",
       "28  b132ca4a0d72d8322943e8b424d61628      R6     3  3336.0\n",
       "29  b3b78af95bdc87d71e1663996cd413e1     R14     8  3016.5\n",
       "30  b568c2021eecdfb087b5ada62f24ae5a      R6    17  3465.0\n",
       "31  b579a690487f5f2c2fe04cc645627e3c      R6    14  3455.4\n",
       "32  b985e144ff4bba50547615446044ad2c      R6     4  3337.5\n",
       "33  bea9342ca378b9ece615bc976ec00ccd      R5    26  3518.7\n",
       "34  c12a357501fe3f3941ce54b621077e94      R5    27  3693.3\n",
       "35  c2469094b31099bab973548f071ed5c5      R6     7  3380.4\n",
       "36  c4e5ef68a0a2c179093c97447af04b6f      R5     5  3159.9\n",
       "37  c66f62fcb07c36fcee93f91fb9ba8059      R5    18  3303.9\n",
       "38  c81ee569df42a879871c1a570321ebc1     R22     4  3050.7\n",
       "39  cc4034180fc002ca57d4757afc22f381     R14     6  2997.3\n",
       "40  d1bd39d7ba23df3d141955aae8a7e772      R5    25  3500.4\n",
       "41  d8911199df5d845162afb034d93d2da9     R22     6  3057.3\n",
       "42  dd0e2e0af8f363b4c9651c3c17a528ca     R14    26  3169.5\n",
       "43  e1a340458d0099a52c22a3b01bde97e8      R6    11  3420.3\n",
       "44  eadd23e454081858ba27864e5951594e     R14    34  3193.2\n",
       "45  ec8f6f46af46422a073c18172faac1f3     R14    13  3080.1\n",
       "46  f25362cd267edd22d4c13ec88a80ad85     R14    42  3390.9\n",
       "47  f36b3ffbedb51186f63be96ca1d710c6     R14    20  3143.7\n",
       "48  f6c8431b896e7844c70e57ff07f075df      R6    16  3457.8\n",
       "49  f85bee7e8bd8816f519668d515c90c87     R14    22  3151.2\n",
       "50  f94c94c254360f7511b40697ab42fbff     R14    23  3158.4\n",
       "51  f9c26abc97078924371c9bf060ffac41     R14    16  3135.3"
      ]
     },
     "execution_count": 54,
     "metadata": {},
     "output_type": "execute_result"
    }
   ],
   "source": [
    "sample_sub_coachs"
   ]
  },
  {
   "cell_type": "code",
   "execution_count": null,
   "metadata": {
    "collapsed": true
   },
   "outputs": [],
   "source": []
  }
 ],
 "metadata": {
  "kernelspec": {
   "display_name": "Python 3",
   "language": "python",
   "name": "python3"
  },
  "language_info": {
   "codemirror_mode": {
    "name": "ipython",
    "version": 3
   },
   "file_extension": ".py",
   "mimetype": "text/x-python",
   "name": "python",
   "nbconvert_exporter": "python",
   "pygments_lexer": "ipython3",
   "version": "3.6.3"
  }
 },
 "nbformat": 4,
 "nbformat_minor": 2
}
